{
  "nbformat": 4,
  "nbformat_minor": 0,
  "metadata": {
    "colab": {
      "private_outputs": true,
      "provenance": [],
      "mount_file_id": "1walPjzkc3MXLL3xL2WwbyMsMVQoELeKu",
      "authorship_tag": "ABX9TyNptRFKKAE4H5PeLgsoLi5V",
      "include_colab_link": true
    },
    "kernelspec": {
      "name": "python3",
      "display_name": "Python 3"
    },
    "language_info": {
      "name": "python"
    }
  },
  "cells": [
    {
      "cell_type": "markdown",
      "metadata": {
        "id": "view-in-github",
        "colab_type": "text"
      },
      "source": [
        "<a href=\"https://colab.research.google.com/github/MohamedElSobkey/YOLOv8-Object-Detection-on-different-data/blob/main/YOLOv8_Object_Detection_on_different_data.ipynb\" target=\"_parent\"><img src=\"https://colab.research.google.com/assets/colab-badge.svg\" alt=\"Open In Colab\"/></a>"
      ]
    },
    {
      "cell_type": "code",
      "execution_count": null,
      "metadata": {
        "id": "Y25vhhA9erx7"
      },
      "outputs": [],
      "source": [
        "#Importing libraries\n",
        "import numpy as np\n",
        "import PIL # picture image library\n",
        "import os\n",
        "from PIL import Image\n",
        "from IPython.display import display\n",
        "import matplotlib.pyplot as plt\n",
        "from glob import glob # to read huge a mount of images\n",
        "import random\n",
        "import cv2\n",
        "import warnings\n",
        "warnings.simplefilter('ignore')"
      ]
    },
    {
      "cell_type": "code",
      "source": [
        "!pip install ultralytics"
      ],
      "metadata": {
        "id": "kG9pLvtjfTJU"
      },
      "execution_count": null,
      "outputs": []
    },
    {
      "cell_type": "code",
      "source": [
        "import ultralytics\n",
        "from ultralytics import YOLO\n",
        "yolo_model = YOLO('yolov8m.pt')"
      ],
      "metadata": {
        "id": "Udc6iWizfT4E"
      },
      "execution_count": null,
      "outputs": []
    },
    {
      "cell_type": "code",
      "source": [
        "root_path = '/content/drive/MyDrive/Object Detection Data/fruits/*'\n",
        "num_samples = 25\n",
        "images_data = glob(root_path)\n",
        "random_image = random.sample(images_data, num_samples)\n",
        "\n",
        "plt.figure(figsize=(20,20))\n",
        "for i in range(num_samples):\n",
        "    plt.subplot(5,5,i+1)\n",
        "    plt.imshow(cv2.cvtColor(cv2.imread(random_image[i], cv2.IMREAD_COLOR), cv2.COLOR_BGR2RGB))\n",
        "    plt.axis('off')\n"
      ],
      "metadata": {
        "id": "EAqKSN4JfWZc"
      },
      "execution_count": null,
      "outputs": []
    },
    {
      "cell_type": "markdown",
      "source": [
        "In this section, we have extracted significant results from the pre-trained YOLOv8 model, including the 'name of the detected object,' 'bounding box coordinates', and 'detection probabilities'.\n",
        "The results for the samples have been calculated separately."
      ],
      "metadata": {
        "id": "ejLifpofgVbf"
      }
    },
    {
      "cell_type": "code",
      "source": [
        "# Create a list to store the images\n",
        "images = []\n",
        "for i in range(num_samples):\n",
        "    yolo_outputs = yolo_model.predict(random_image[i])\n",
        "    output = yolo_outputs[0]\n",
        "    box = output.boxes\n",
        "    names = output.names\n",
        "\n",
        "    for j in range(len(box)):\n",
        "        labels = names[box.cls[j].item()]\n",
        "        coordinates = box.xyxy[j].tolist()\n",
        "        confidence = np.round(box.conf[j].item(), 2)\n",
        "        #print(f'In this image {len(box)} objects has been detected.')\n",
        "        print(f'Object {j + 1} is: {labels}')\n",
        "        print(f'Coordinates are: {coordinates}')\n",
        "        print(f'Confidence is: {confidence}')\n",
        "        print('-------')\n",
        "\n",
        "    # Store the image in the 'images' list\n",
        "    images.append(output.plot()[:, :, ::-1])"
      ],
      "metadata": {
        "id": "WQA33lOnf-eT"
      },
      "execution_count": null,
      "outputs": []
    },
    {
      "cell_type": "markdown",
      "source": [
        "In the last section, the results for the samples have been presented visually.."
      ],
      "metadata": {
        "id": "NiK7wIA-gilA"
      }
    },
    {
      "cell_type": "code",
      "source": [
        "plt.figure(figsize=(10,10))\n",
        "plt.imshow(images[0])\n",
        "plt.axis('off')\n",
        "plt.tight_layout()\n",
        "plt.show()"
      ],
      "metadata": {
        "id": "9Gvn7OVJgeHr"
      },
      "execution_count": null,
      "outputs": []
    },
    {
      "cell_type": "code",
      "source": [
        "# plotting the images after object detection\n",
        "print('\\n\\n-------------------------------------- Images after object detection with YOLOV8 --------------------------------')\n",
        "\n",
        "plt.figure(figsize=(30,30))\n",
        "for i, img in enumerate(images):\n",
        "    plt.subplot(5,5, i + 1)\n",
        "    plt.imshow(img)\n",
        "    plt.axis('off')\n",
        "plt.tight_layout()\n",
        "plt.show()"
      ],
      "metadata": {
        "id": "mMHI_g5xg9R4"
      },
      "execution_count": null,
      "outputs": []
    },
    {
      "cell_type": "code",
      "source": [
        "def ODImage(image) :\n",
        "  yolo_outputs = yolo_model.predict(image)\n",
        "  output = yolo_outputs[0]\n",
        "  box = output.boxes\n",
        "  names = output.names\n",
        "  for j in range(len(box)):\n",
        "    labels = names[box.cls[j].item()]\n",
        "    coordinates = box.xyxy[j].tolist()\n",
        "    confidence = np.round(box.conf[j].item(), 2)\n",
        "    print(f'Object {j + 1} is: {labels}')\n",
        "    print(f'Coordinates are: {coordinates}')\n",
        "    print(f'Confidence is: {confidence}')\n",
        "    print('-------')\n",
        "  NewImage = output.plot()[:, :, ::-1]\n",
        "  plt.figure(figsize=(10,5))\n",
        "  plt.subplot(1,2,1)\n",
        "  plt.imshow(cv2.cvtColor(cv2.imread(image, cv2.IMREAD_COLOR), cv2.COLOR_BGR2RGB))\n",
        "  plt.title('Original Image')\n",
        "  plt.axis('off')\n",
        "  plt.subplot(1,2,2)\n",
        "  plt.imshow(NewImage)\n",
        "  plt.axis('off')\n",
        "  plt.title('OD Image')\n",
        "  plt.show()"
      ],
      "metadata": {
        "id": "7F2D-_LdhVH0"
      },
      "execution_count": null,
      "outputs": []
    },
    {
      "cell_type": "code",
      "source": [
        "ODImage('/content/drive/MyDrive/Object Detection Data/fruits/apple_42.jpg')"
      ],
      "metadata": {
        "id": "mLN4SiihhdM6"
      },
      "execution_count": null,
      "outputs": []
    },
    {
      "cell_type": "code",
      "source": [
        "ODImage('/content/drive/MyDrive/Object Detection Data/fruits/banana_46.jpg')"
      ],
      "metadata": {
        "id": "CDJb1UvOig-Z"
      },
      "execution_count": null,
      "outputs": []
    },
    {
      "cell_type": "code",
      "source": [
        "Path = '/content/drive/MyDrive/Object Detection Data/fruits'\n",
        "ODImage(os.path.join(Path, np.random.choice(os.listdir(Path))))"
      ],
      "metadata": {
        "id": "UUdmmNK0i3kB"
      },
      "execution_count": null,
      "outputs": []
    },
    {
      "cell_type": "code",
      "source": [
        "Path = '/content/drive/MyDrive/Object Detection Data/streets'\n",
        "ODImage(os.path.join(Path, np.random.choice(os.listdir(Path))))"
      ],
      "metadata": {
        "id": "d0gBM9Q_jSPD"
      },
      "execution_count": null,
      "outputs": []
    },
    {
      "cell_type": "code",
      "source": [
        "Path = '/content/drive/MyDrive/Object Detection Data/digits'\n",
        "ODImage(os.path.join(Path, np.random.choice(os.listdir(Path))))"
      ],
      "metadata": {
        "id": "ROdjrFVsk4kw"
      },
      "execution_count": null,
      "outputs": []
    },
    {
      "cell_type": "code",
      "source": [
        "Path = '/content/drive/MyDrive/Object Detection Data/digits'\n",
        "ODImage(os.path.join(Path, np.random.choice(os.listdir(Path))))"
      ],
      "metadata": {
        "id": "a-DJacHRk_eH"
      },
      "execution_count": null,
      "outputs": []
    },
    {
      "cell_type": "code",
      "source": [
        "Path = '/content/drive/MyDrive/Object Detection Data/drones'\n",
        "ODImage(os.path.join(Path, np.random.choice(os.listdir(Path))))"
      ],
      "metadata": {
        "id": "R3nv_WG9lE13"
      },
      "execution_count": null,
      "outputs": []
    },
    {
      "cell_type": "code",
      "source": [
        "Path = '/content/drive/MyDrive/Object Detection Data/flowers'\n",
        "ODImage(os.path.join(Path, np.random.choice(os.listdir(Path))))"
      ],
      "metadata": {
        "id": "dWVGIoXAlUdh"
      },
      "execution_count": null,
      "outputs": []
    },
    {
      "cell_type": "code",
      "source": [
        "Path = '/content/drive/MyDrive/Object Detection Data/guns'\n",
        "ODImage(os.path.join(Path, np.random.choice(os.listdir(Path))))"
      ],
      "metadata": {
        "id": "ksZmJ-vQli3D"
      },
      "execution_count": null,
      "outputs": []
    },
    {
      "cell_type": "code",
      "source": [
        "Path = '/content/drive/MyDrive/Object Detection Data/people'\n",
        "ODImage(os.path.join(Path, np.random.choice(os.listdir(Path))))"
      ],
      "metadata": {
        "id": "SHRXAjJHlwhZ"
      },
      "execution_count": null,
      "outputs": []
    },
    {
      "cell_type": "code",
      "source": [],
      "metadata": {
        "id": "AF0H7c-Fl_bN"
      },
      "execution_count": null,
      "outputs": []
    }
  ]
}